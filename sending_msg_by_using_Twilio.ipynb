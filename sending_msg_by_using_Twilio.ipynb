{
 "cells": [
  {
   "cell_type": "code",
   "execution_count": 1,
   "metadata": {},
   "outputs": [],
   "source": [
    "from twilio.rest import Client"
   ]
  },
  {
   "cell_type": "code",
   "execution_count": 3,
   "metadata": {},
   "outputs": [],
   "source": [
    "import os"
   ]
  },
  {
   "cell_type": "code",
   "execution_count": 18,
   "metadata": {},
   "outputs": [],
   "source": [
    "c = os.environ.get(\"TWILIO_ACCOUNT_SID\")"
   ]
  },
  {
   "cell_type": "code",
   "execution_count": 20,
   "metadata": {},
   "outputs": [
    {
     "name": "stdout",
     "output_type": "stream",
     "text": [
      "None\n"
     ]
    }
   ],
   "source": []
  },
  {
   "cell_type": "code",
   "execution_count": 5,
   "metadata": {},
   "outputs": [],
   "source": [
    "client=Client('AC721cb28f5bdccaf85948633afd8ea755' , '0ac3118f49ca3eb9d69a5c21722e82e5')"
   ]
  },
  {
   "cell_type": "code",
   "execution_count": 10,
   "metadata": {},
   "outputs": [
    {
     "data": {
      "text/plain": [
       "<Twilio.Api.V2010.MessageInstance account_sid=AC721cb28f5bdccaf85948633afd8ea755 sid=SMdff17f266be94f97962bfeb9f2c9010c>"
      ]
     },
     "execution_count": 10,
     "metadata": {},
     "output_type": "execute_result"
    }
   ],
   "source": [
    "client.messages.create(body='Ahoy, world!',\n",
    "                       from_='whatsapp:+14155238886',\n",
    "                       to='whatsapp:+918766533434')"
   ]
  },
  {
   "cell_type": "code",
   "execution_count": 9,
   "metadata": {},
   "outputs": [
    {
     "data": {
      "text/plain": [
       "<Twilio.Api.V2010.MessageInstance account_sid=AC721cb28f5bdccaf85948633afd8ea755 sid=SM4f5cd329d9b840f785078eee634e6819>"
      ]
     },
     "execution_count": 9,
     "metadata": {},
     "output_type": "execute_result"
    }
   ],
   "source": [
    "client.messages.create(body='Ahoy, world!',\n",
    "                       from_='+14048009766',\n",
    "                       to='+918766533434')"
   ]
  },
  {
   "cell_type": "code",
   "execution_count": 14,
   "metadata": {},
   "outputs": [],
   "source": [
    "K=os.environ.get(\"EMAIL_USER\")"
   ]
  },
  {
   "cell_type": "code",
   "execution_count": 16,
   "metadata": {},
   "outputs": [
    {
     "name": "stdout",
     "output_type": "stream",
     "text": [
      "None\n"
     ]
    }
   ],
   "source": [
    "K=os.environ.get(\"EMAIL_USER\")"
   ]
  },
  {
   "cell_type": "code",
   "execution_count": null,
   "metadata": {},
   "outputs": [],
   "source": []
  },
  {
   "cell_type": "code",
   "execution_count": null,
   "metadata": {},
   "outputs": [],
   "source": [
    "from twilio.rest import Client\n",
    "\n",
    "# client credentials are read from TWILIO_ACCOUNT_SID and AUTH_TOKEN\n",
    "client = Client()\n",
    "\n",
    "# this is the Twilio sandbox testing number\n",
    "from_whatsapp_number='whatsapp:+14155238886'\n",
    "# replace this number with your own WhatsApp Messaging number\n",
    "to_whatsapp_number='whatsapp:+15005550006'\n",
    "\n",
    "client.messages.create(body='Ahoy, world!',\n",
    "                       from_=from_whatsapp_number,\n",
    "                       to=to_whatsapp_number)"
   ]
  }
 ],
 "metadata": {
  "kernelspec": {
   "display_name": "Python 3",
   "language": "python",
   "name": "python3"
  },
  "language_info": {
   "codemirror_mode": {
    "name": "ipython",
    "version": 3
   },
   "file_extension": ".py",
   "mimetype": "text/x-python",
   "name": "python",
   "nbconvert_exporter": "python",
   "pygments_lexer": "ipython3",
   "version": "3.8.5"
  }
 },
 "nbformat": 4,
 "nbformat_minor": 4
}

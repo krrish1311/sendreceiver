{
 "cells": [
  {
   "cell_type": "code",
   "execution_count": 10,
   "metadata": {},
   "outputs": [],
   "source": [
    "import cv2"
   ]
  },
  {
   "cell_type": "code",
   "execution_count": 9,
   "metadata": {},
   "outputs": [],
   "source": [
    "cap = cv2.VideoCapture(\"http://192.168.43.1:8080/video\")"
   ]
  },
  {
   "cell_type": "code",
   "execution_count": null,
   "metadata": {},
   "outputs": [],
   "source": [
    "while True:\n",
    "    ret, photo = cap.read()\n",
    "    cphoto = cv2.cvtColor(photo, cv2.COLOR_BGR2GRAY)\n",
    "    # cphoto = photo[100:400, 50:350]\n",
    "    cv2.imshow('hi', cphoto)\n",
    "    if cv2.waitKey(10) == 13:\n",
    "        break\n",
    "    \n",
    "    \n",
    "cv2.destroyAllWindows()\n",
    "cap.release()"
   ]
  },
  {
   "cell_type": "code",
   "execution_count": 13,
   "metadata": {},
   "outputs": [
    {
     "ename": "OSError",
     "evalue": "[WinError 10048] Only one usage of each socket address (protocol/network address/port) is normally permitted",
     "output_type": "error",
     "traceback": [
      "\u001b[1;31m---------------------------------------------------------------------------\u001b[0m",
      "\u001b[1;31mOSError\u001b[0m                                   Traceback (most recent call last)",
      "\u001b[1;32m<ipython-input-13-ab35a3e6a8ee>\u001b[0m in \u001b[0;36m<module>\u001b[1;34m\u001b[0m\n\u001b[0;32m      6\u001b[0m \u001b[1;31m# client program socket to connect to the server program\u001b[0m\u001b[1;33m\u001b[0m\u001b[1;33m\u001b[0m\u001b[1;33m\u001b[0m\u001b[0m\n\u001b[0;32m      7\u001b[0m \u001b[0mskt\u001b[0m \u001b[1;33m=\u001b[0m \u001b[0msocket\u001b[0m\u001b[1;33m.\u001b[0m\u001b[0msocket\u001b[0m\u001b[1;33m(\u001b[0m\u001b[1;33m)\u001b[0m\u001b[1;33m\u001b[0m\u001b[1;33m\u001b[0m\u001b[0m\n\u001b[1;32m----> 8\u001b[1;33m \u001b[0mskt\u001b[0m\u001b[1;33m.\u001b[0m\u001b[0mbind\u001b[0m\u001b[1;33m(\u001b[0m\u001b[1;33m(\u001b[0m\u001b[1;34m\"192.168.43.49\"\u001b[0m\u001b[1;33m,\u001b[0m \u001b[1;36m4321\u001b[0m\u001b[1;33m)\u001b[0m\u001b[1;33m)\u001b[0m\u001b[1;33m\u001b[0m\u001b[1;33m\u001b[0m\u001b[0m\n\u001b[0m\u001b[0;32m      9\u001b[0m \u001b[0mserver_ip\u001b[0m \u001b[1;33m=\u001b[0m \u001b[0minput\u001b[0m\u001b[1;33m(\u001b[0m\u001b[1;34m\"enter server ip: \"\u001b[0m\u001b[1;33m)\u001b[0m\u001b[1;33m\u001b[0m\u001b[1;33m\u001b[0m\u001b[0m\n\u001b[0;32m     10\u001b[0m \u001b[0mserver_port\u001b[0m \u001b[1;33m=\u001b[0m \u001b[0minput\u001b[0m\u001b[1;33m(\u001b[0m\u001b[1;34m\"enter server port number: \"\u001b[0m\u001b[1;33m)\u001b[0m\u001b[1;33m\u001b[0m\u001b[1;33m\u001b[0m\u001b[0m\n",
      "\u001b[1;31mOSError\u001b[0m: [WinError 10048] Only one usage of each socket address (protocol/network address/port) is normally permitted"
     ]
    }
   ],
   "source": [
    "import socket\n",
    "import numpy as np\n",
    "import cv2 as cv\n",
    "import threading\n",
    "\n",
    "# client program socket to connect to the server program\n",
    "skt = socket.socket()\n",
    "skt.bind((\"192.168.43.49\", 4321)) \n",
    "server_ip = input(\"enter server ip: \")\n",
    "server_port = input(\"enter server port number: \")\n",
    "\n",
    "skt.connect((server_ip, int(server_port))) \n",
    "skt.send(b\"connected\")  # sending string as data\n",
    "cameraIndex = 0 # the camera to use i.e. laptop webcam\n",
    "camera = cv.VideoCapture(cameraIndex) # starting the camera\n",
    "\n",
    "# function for cleint to work as receiver\n",
    "def receiver():\n",
    "    framesLost = 0\n",
    "    print(\"Entered\")\n",
    "    while True:\n",
    "        framesLost += 1 # counting frame\n",
    "        data = skt.recv(100000000)  # receiving data with the size limit\n",
    "        if(data == b'finished'): # to stop receiving and stop camera\n",
    "            print(\"Finished\")\n",
    "            camera.release()\n",
    "            skt.close()\n",
    "        else:  \n",
    "            photo =  np.frombuffer(data, dtype=np.uint8)# converting the byte data into numpy array\n",
    "            if len(photo) == 640*480*3: # changing the array shape and getting the video\n",
    "                cv.imshow('From Server', photo.reshape(480, 640, 3))\n",
    "                 # camera closing condition and 13 is a enter key no.\n",
    "                if cv.waitKey(1) == 13:\n",
    "                    skt.send(b'finished')\n",
    "                    camera.release()\n",
    "                    cv.destroyAllWindows()\n",
    "                    break\n",
    "            else:\n",
    "                print(\"Lost {} frames\".format(framesLost) ) #counting the lost frames during video exchange\n",
    "\n",
    "# function for client to send the data of the video             \n",
    "def sender():\n",
    "    while True: # reading the camera data resizing and sending it as byte \n",
    "        status, photo = camera.read()\n",
    "        photo = cv.resize(photo, (640, 480))\n",
    "        \n",
    "        print(photo.shape)\n",
    "        if status:\n",
    "            skt.send(np.ndarray.tobytes(photo))\n",
    "        else: print(\"Could not get frame\")\n",
    "    camera.release()\n",
    "\n",
    "# threads to run both the functions\n",
    "threading.Thread(target=receiver).start()\n",
    "threading.Thread(target=sender).start()"
   ]
  },
  {
   "cell_type": "code",
   "execution_count": null,
   "metadata": {},
   "outputs": [],
   "source": []
  }
 ],
 "metadata": {
  "kernelspec": {
   "display_name": "Python 3",
   "language": "python",
   "name": "python3"
  },
  "language_info": {
   "codemirror_mode": {
    "name": "ipython",
    "version": 3
   },
   "file_extension": ".py",
   "mimetype": "text/x-python",
   "name": "python",
   "nbconvert_exporter": "python",
   "pygments_lexer": "ipython3",
   "version": "3.8.5"
  }
 },
 "nbformat": 4,
 "nbformat_minor": 4
}

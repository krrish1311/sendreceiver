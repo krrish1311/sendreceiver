{
 "cells": [
  {
   "cell_type": "code",
   "execution_count": null,
   "metadata": {},
   "outputs": [],
   "source": [
    "import socket\n",
    "import cv2\n",
    "import numpy\n",
    "import pickle\n",
    "cap = cv2.VideoCapture(0)\n",
    "s=socket.socket(socket.AF_INET , socket.SOCK_STREAM)\n",
    "ip=\"192.168.43.211\"\n",
    "port = 2021\n",
    "s.bind((ip,port))\n",
    "s.listen()\n",
    "catch , addr = s.accept()"
   ]
  },
  {
   "cell_type": "code",
   "execution_count": null,
   "metadata": {},
   "outputs": [],
   "source": [
    "while True :\n",
    "    ret , photo = cap.read()\n",
    "    ret , image = cv2.imencode(\".jpg\" , photo)\n",
    "    image = pickle.dumps(image)\n",
    "    catch.send(image)\n",
    "    \n",
    "    x=catch.recv(100000000)\n",
    "    try:\n",
    "        data = pickle.loads(x)\n",
    "        data = cv2.imdecodeecode(data , cv2.IMREAD_COLOR)\n",
    "        if data is not None :\n",
    "            cv2.imshow(\"clients call\" ,data)\n",
    "            if cv2.waitKey(10)==13 :\n",
    "                break\n",
    "                \n",
    "    except:\n",
    "        print(\"waiting for the client\")\n",
    "        \n",
    "cv2.destroyAllWindows()        \n",
    "       "
   ]
  },
  {
   "cell_type": "code",
   "execution_count": null,
   "metadata": {},
   "outputs": [],
   "source": [
    "\n"
   ]
  },
  {
   "cell_type": "code",
   "execution_count": null,
   "metadata": {},
   "outputs": [],
   "source": []
  },
  {
   "cell_type": "code",
   "execution_count": null,
   "metadata": {},
   "outputs": [],
   "source": [
    "1024*4"
   ]
  },
  {
   "cell_type": "code",
   "execution_count": null,
   "metadata": {},
   "outputs": [],
   "source": [
    "s.close()"
   ]
  },
  {
   "cell_type": "code",
   "execution_count": null,
   "metadata": {},
   "outputs": [],
   "source": []
  },
  {
   "cell_type": "code",
   "execution_count": null,
   "metadata": {},
   "outputs": [],
   "source": []
  }
 ],
 "metadata": {
  "kernelspec": {
   "display_name": "Python 3",
   "language": "python",
   "name": "python3"
  },
  "language_info": {
   "codemirror_mode": {
    "name": "ipython",
    "version": 3
   },
   "file_extension": ".py",
   "mimetype": "text/x-python",
   "name": "python",
   "nbconvert_exporter": "python",
   "pygments_lexer": "ipython3",
   "version": "3.8.5"
  }
 },
 "nbformat": 4,
 "nbformat_minor": 4
}
